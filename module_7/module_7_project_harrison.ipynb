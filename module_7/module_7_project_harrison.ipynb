{
 "cells": [
  {
   "cell_type": "markdown",
   "id": "34474172",
   "metadata": {},
   "source": [
    "Draw together some large-scale data from open sources and use that to start to make an argument about what the emerging technological security threats are, and where we should locate an office for investigating these. This is a question of topic and of place. \n",
    "\n",
    "Obviously, at this stage we expect a thorough job from you. Minimally, we want something that draws on a single large repository of data (numerical, textual, network, geocoded, etc.). But since the greatest insights often come from multiple data sources, if you can join these together and find relevant connections and use this preliminary data analysis to form some solid hunches for more pointed data collection and analysis, that would be the kind of work we would expect from a professional in the field.\n"
   ]
  },
  {
   "cell_type": "markdown",
   "id": "d75c5cac",
   "metadata": {},
   "source": [
    "Topic: Emerging Technological security threats\n",
    "Place: Physical location where Agent Smith should locate an office for investigating emerging technological security threats."
   ]
  },
  {
   "attachments": {},
   "cell_type": "markdown",
   "id": "d1c117b4",
   "metadata": {},
   "source": [
    "1. A set of research questions. These may be unfinished at this stage, but should be questions that are narrow enough that they can be answered with data that is available, and precise enough that you can identify differences in data that will help to answer them.\n",
    "\n",
    "\n",
    "Research questions:\n",
    "* Are there any geographic regions or industries that are consistently identified as being at higher risk for cybersecurity threats on r/cybersecurity, and if so, why?\n",
    "\n",
    "* Are there any geographic trends or patterns in the types of cybersecurity incidents that are reported on r/cybersecurity, such as data breaches, malware attacks, or phishing campaigns?\n",
    "\n",
    "* What are the most commonly discussed cybersecurity threats on r/cybersecurity, and do they vary by region or industry?"
   ]
  },
  {
   "attachments": {},
   "cell_type": "markdown",
   "id": "1f3dc55f",
   "metadata": {},
   "source": [
    "subreddits to search:\n",
    "\n",
    "r/cybersecurity\n",
    "r/netsec"
   ]
  },
  {
   "cell_type": "code",
   "execution_count": 33,
   "id": "0fa61717",
   "metadata": {},
   "outputs": [
    {
     "name": "stdout",
     "output_type": "stream",
     "text": [
      "Requirement already satisfied: psaw in /Users/david/opt/anaconda3/lib/python3.9/site-packages (0.1.0)\n",
      "Requirement already satisfied: requests in /Users/david/opt/anaconda3/lib/python3.9/site-packages (from psaw) (2.28.1)\n",
      "Requirement already satisfied: Click in /Users/david/opt/anaconda3/lib/python3.9/site-packages (from psaw) (8.0.4)\n",
      "Requirement already satisfied: urllib3<1.27,>=1.21.1 in /Users/david/opt/anaconda3/lib/python3.9/site-packages (from requests->psaw) (1.26.14)\n",
      "Requirement already satisfied: charset-normalizer<3,>=2 in /Users/david/opt/anaconda3/lib/python3.9/site-packages (from requests->psaw) (2.0.4)\n",
      "Requirement already satisfied: idna<4,>=2.5 in /Users/david/opt/anaconda3/lib/python3.9/site-packages (from requests->psaw) (3.4)\n",
      "Requirement already satisfied: certifi>=2017.4.17 in /Users/david/opt/anaconda3/lib/python3.9/site-packages (from requests->psaw) (2022.12.7)\n",
      "Requirement already satisfied: praw in /Users/david/opt/anaconda3/lib/python3.9/site-packages (7.7.0)\n",
      "Requirement already satisfied: prawcore<3,>=2.1 in /Users/david/opt/anaconda3/lib/python3.9/site-packages (from praw) (2.3.0)\n",
      "Requirement already satisfied: update-checker>=0.18 in /Users/david/opt/anaconda3/lib/python3.9/site-packages (from praw) (0.18.0)\n",
      "Requirement already satisfied: websocket-client>=0.54.0 in /Users/david/opt/anaconda3/lib/python3.9/site-packages (from praw) (0.58.0)\n",
      "Requirement already satisfied: requests<3.0,>=2.6.0 in /Users/david/opt/anaconda3/lib/python3.9/site-packages (from prawcore<3,>=2.1->praw) (2.28.1)\n",
      "Requirement already satisfied: six in /Users/david/opt/anaconda3/lib/python3.9/site-packages (from websocket-client>=0.54.0->praw) (1.16.0)\n",
      "Requirement already satisfied: idna<4,>=2.5 in /Users/david/opt/anaconda3/lib/python3.9/site-packages (from requests<3.0,>=2.6.0->prawcore<3,>=2.1->praw) (3.4)\n",
      "Requirement already satisfied: charset-normalizer<3,>=2 in /Users/david/opt/anaconda3/lib/python3.9/site-packages (from requests<3.0,>=2.6.0->prawcore<3,>=2.1->praw) (2.0.4)\n",
      "Requirement already satisfied: urllib3<1.27,>=1.21.1 in /Users/david/opt/anaconda3/lib/python3.9/site-packages (from requests<3.0,>=2.6.0->prawcore<3,>=2.1->praw) (1.26.14)\n",
      "Requirement already satisfied: certifi>=2017.4.17 in /Users/david/opt/anaconda3/lib/python3.9/site-packages (from requests<3.0,>=2.6.0->prawcore<3,>=2.1->praw) (2022.12.7)\n",
      "Requirement already satisfied: networkx in /Users/david/opt/anaconda3/lib/python3.9/site-packages (2.8.4)\n"
     ]
    }
   ],
   "source": [
    "# !pip install psaw\n",
    "# !pip install praw\n",
    "# !pip install networkx"
   ]
  },
  {
   "cell_type": "code",
   "execution_count": 47,
   "id": "5d6e35cb",
   "metadata": {},
   "outputs": [],
   "source": [
    "import requests\n",
    "import json\n",
    "import pandas as pd\n",
    "import praw\n",
    "from psaw import PushshiftAPI\n",
    "from datetime import datetime\n",
    "import secret\n",
    "\n",
    "import datetime as dt            #library for date management\n",
    "import matplotlib.pyplot as plt  #library for plotting\n",
    "\n",
    "\n",
    "\n",
    "\n",
    "reddit = praw.Reddit(user_agent=\"ASU STC-510 Data Wrangling Basics (by Trioptre)\",\n",
    "                     client_id=secret.app_id,\n",
    "                     client_secret=secret.app_secret,\n",
    "                     username=secret.uname,\n",
    "                     password=secret.upass)\n",
    "\n",
    "# PushshiftAPI was giving me two errors:\n",
    "\n",
    "# /Users/david/opt/anaconda3/lib/python3.9/site-packages/psaw/PushshiftAPI.py:192: UserWarning: Got non 200 code 404\n",
    "#   warnings.warn(\"Got non 200 code %s\" % response.status_code)\n",
    "# /Users/david/opt/anaconda3/lib/python3.9/site-packages/psaw/PushshiftAPI.py:180: UserWarning: Unable to connect to pushshift.io. Retrying after backoff.\n",
    "#   warnings.warn(\"Unable to connect to pushshift.io. Retrying after backoff.\")\n",
    "\n",
    "# api = PushshiftAPI(reddit)\n",
    "\n",
    "\n",
    "# Commenting the following out due to issues with the PushshiftAPI\n",
    "# early_subs = []\n",
    "# search_args = {\n",
    "#     'q': 'zero day',\n",
    "#     'after': int(datetime(2022,2,1).timestamp()),\n",
    "#     'before': int(datetime(2022,3,1).timestamp()),\n",
    "#     'limit':1000,\n",
    "# # }\n",
    "\n",
    "# early_subs += list(api.search_submissions(**search_args))\n",
    "\n",
    "\n",
    "# early_subs = []\n",
    "# for submission in reddit.subreddit('cybersecurity').search('zero day', time_filter='month', limit=1000):\n",
    "#     early_subs.append(submission)\n",
    "\n",
    "# topiclist = []\n",
    "# for submission in early_subs:\n",
    "#     topiclist.append(submission.id)\n",
    "#     print(submission.title, submission.id)\n",
    "\n",
    "# print(topiclist)\n",
    "\n",
    "\n",
    "search_args = {\n",
    "    'q': 'zero day',\n",
    "    'time_filter': 'month',\n",
    "    'limit': 1000,\n",
    "}\n",
    "\n",
    "early_subs = []\n",
    "for submission in reddit.subreddit('cybersecurity').search(search_args['q'], time_filter=search_args['time_filter'], limit=search_args['limit']):\n",
    "    early_subs.append(submission)\n",
    "\n",
    "\n",
    "    early_subs\n",
    "\n",
    "len(early_subs)\n",
    "\n",
    "[eachsub.title for eachsub in early_subs]\n"
   ]
  },
  {
   "attachments": {},
   "cell_type": "markdown",
   "id": "ea058d54",
   "metadata": {},
   "source": [
    "Search terms:\n",
    "cyberespionage\n",
    "state-sponsored attacks\n",
    "international sanctions\n",
    "malware\n",
    "ransomware\n",
    "phishing\n",
    "data breach\n",
    "zero-day vulnerability\n",
    "Advanced Persistent Threat (APT)\n",
    "\n"
   ]
  },
  {
   "attachments": {},
   "cell_type": "markdown",
   "id": "f5f69903",
   "metadata": {},
   "source": [
    "What kind of data to I have? (Numerical, textual, network, geocoded, etc.)\n",
    "\n",
    "- json data"
   ]
  },
  {
   "attachments": {},
   "cell_type": "markdown",
   "id": "617354e2",
   "metadata": {},
   "source": [
    "Lu, Y., Zhu, W., & Liu, P. (2020). Deep learning for cybersecurity: A survey. IEEE Communications Surveys & Tutorials, 22(3), 1593-1633.\n",
    "\n",
    "The article by Lu et al. provides a comprehensive survey of the use of deep learning techniques in cybersecurity. The authors review the current state-of-the-art in the application of deep learning to various cybersecurity tasks, such as intrusion detection and malware analysis. They also discuss the challenges and opportunities of using deep learning in cybersecurity and identify some future research directions in this area.\n",
    "\n",
    "-------\n",
    "\n",
    "Alhadidi, D., Al-Dhaheri, M., Alkhouri, S., & Aloul, F. (2019). A survey on ransomware: Threats, vulnerabilities, and prevention. Computers & Security, 83, 81-105.\n",
    "\n",
    "The article by Alhadidi et al. provides a comprehensive survey of the ransomware threat, which is a type of malware that encrypts user data and demands a ransom for its decryption. The authors review the current state-of-the-art in ransomware attacks, such as distribution methods and encryption techniques. They also discuss the vulnerabilities that make systems susceptible to ransomware attacks and propose some prevention techniques that can help mitigate the impact of ransomware.\n",
    "\n",
    "--------\n",
    "\n",
    "Amin, R., Chen, J., & Ganesan, D. (2019). A survey of security and privacy issues in smart grid. IEEE Communications Surveys & Tutorials, 21(3), 2526-2553.\n",
    "\n",
    "The authors provide a comprehensive survey of the security and privacy issues in smart grid systems. The authors review the current state-of-the-art in smart grid security, such as threats and vulnerabilities to the system's communication and control infrastructure. They also discuss the privacy challenges associated with the collection and dissemination of smart grid data and propose some security and privacy solutions that can help address these challenges.2. While you need not write a literature review, you should make reference to at least three scholarly articles/books that help you to frame your work. Well written articles provide a heuristic function: suggesting \"known unknowns\" worth investigating. Likewise, there is value in replicating investigations, particularly when moved to different contexts: does research on one social platform or domain apply to others? Articles that provide strong methods sections may serve as a template for your own work."
   ]
  },
  {
   "attachments": {},
   "cell_type": "markdown",
   "id": "b33b1fb1",
   "metadata": {},
   "source": [
    "\n",
    "\n",
    "\n",
    "\n",
    "\n",
    "Kim, S., & Choi, Y. (2020). Security threats in the internet of things (IoT) era. Information Systems Frontiers, 22(2), 279-291. doi: 10.1007/s10796-019-09972-1\n",
    "\n",
    "Kim and Choi's article discusses the security threats associated with the Internet of Things (IoT), a network of physical devices connected to the internet. The authors highlight the need for increased security measures in the design and implementation of IoT devices and systems, as well as the importance of educating users about the risks associated with IoT.\n",
    "\n",
    "--------\n",
    "\n",
    "Cheng, C., & Furnell, S. (2019). Mobile device security: A review of risks and challenges. Journal of Information Privacy and Security, 15(1), 1-17. doi: 10.1080/15536548.2018.1543955\n",
    "\n",
    "Cheng and Furnell's article provides an overview of the security risks associated with mobile devices, including malware, data breaches, and social engineering attacks. The authors highlight the need for increased user awareness and education about mobile device security, as well as the importance of implementing effective security measures at the device and network levels.\n",
    "\n",
    "--------\n",
    "\n",
    "Jansen, W. A., & Scarfone, K. (2013). Guidelines for securing wireless local area networks (WLANs). National Institute of Standards and Technology, Special Publication 800-153.\n",
    "\n",
    "Jansen and Scarfone's article provides guidelines for securing wireless local area networks (WLANs), which are commonly used to provide wireless internet access in homes, businesses, and public spaces. The authors highlight the security risks associated with WLANs, including eavesdropping, unauthorized access, and denial-of-service attacks. The guidelines provide recommendations for securing WLANs at the network, device, and user levels.\n",
    "\n",
    "\n"
   ]
  },
  {
   "cell_type": "markdown",
   "id": "4c5056cb",
   "metadata": {},
   "source": [
    "3. Your data needs to be assembled. This may draw on existing data sources (e.g., US Census data), or may use data you have assembled yourself. In any case, the work should not merely replicate existing research on an existing collection. Make sure, if you are using data that is already largely prepared for you, that you are creating new insights in your analysis. The data you use should be large enough that your pilot project will produce indicative insights, and is scalable as required."
   ]
  },
  {
   "cell_type": "code",
   "execution_count": null,
   "id": "12d00533",
   "metadata": {},
   "outputs": [],
   "source": [
    "# r/cybersecurity "
   ]
  },
  {
   "cell_type": "markdown",
   "id": "a9b6217a",
   "metadata": {},
   "source": [
    "4. Place the data in an appropriate format: in a networkx, numpy array, pandas/ geopandas data structure, or other structure that is appropriate for your analysis. Clean the data--looking for missing data, outliers, problems with the ways in which it is presented, etc. Exclude cases or elements that are not important to your analysis."
   ]
  },
  {
   "cell_type": "markdown",
   "id": "8f579b96",
   "metadata": {},
   "source": [
    "5. Find ways of combining and viewing the data that will help you to address your research questions. This might include looking at KWICs, (as I did above), plotting frequencies, binning and producing histograms, scatterplots, or exploring network structures. Again, your choice of approaches here is likely to be determined largely by your research questions. You are welcome to use the tools we have used in our lessons, but you may find there are approaches that fall outside those we've taken here that can help you to answer your questions."
   ]
  },
  {
   "cell_type": "markdown",
   "id": "084e2ff2",
   "metadata": {},
   "source": [
    "6. Test any initial \"hunches.\" Is there a causal connection between components? Are there scales that may reveal themselves to be connected in a regression? Does classifying cases get you somewhere useful? Is there explicit or implied metadata that can help you answer your questions."
   ]
  },
  {
   "cell_type": "markdown",
   "id": "9e6bb24a",
   "metadata": {},
   "source": [
    "7. Note what you have discovered, and whether it reveals a \"hunch\" that is solid enough to collect more data and prove up."
   ]
  }
 ],
 "metadata": {
  "kernelspec": {
   "display_name": "base",
   "language": "python",
   "name": "python3"
  },
  "language_info": {
   "codemirror_mode": {
    "name": "ipython",
    "version": 3
   },
   "file_extension": ".py",
   "mimetype": "text/x-python",
   "name": "python",
   "nbconvert_exporter": "python",
   "pygments_lexer": "ipython3",
   "version": "3.9.13"
  },
  "varInspector": {
   "cols": {
    "lenName": 16,
    "lenType": 16,
    "lenVar": 40
   },
   "kernels_config": {
    "python": {
     "delete_cmd_postfix": "",
     "delete_cmd_prefix": "del ",
     "library": "var_list.py",
     "varRefreshCmd": "print(var_dic_list())"
    },
    "r": {
     "delete_cmd_postfix": ") ",
     "delete_cmd_prefix": "rm(",
     "library": "var_list.r",
     "varRefreshCmd": "cat(var_dic_list()) "
    }
   },
   "types_to_exclude": [
    "module",
    "function",
    "builtin_function_or_method",
    "instance",
    "_Feature"
   ],
   "window_display": false
  },
  "vscode": {
   "interpreter": {
    "hash": "ca3d29f37a1a1c4f5e7a988c75b7db15a8dc84e630022593e41cd81ca2ea4c4a"
   }
  }
 },
 "nbformat": 4,
 "nbformat_minor": 5
}
