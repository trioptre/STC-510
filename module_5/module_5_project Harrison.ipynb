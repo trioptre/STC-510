{
 "cells": [
  {
   "cell_type": "code",
   "execution_count": 46,
   "id": "cb9b2774-675f-40f6-8db1-d7595cb1c8e9",
   "metadata": {},
   "outputs": [
    {
     "name": "stdout",
     "output_type": "stream",
     "text": [
      "Number of questions: 216930\n",
      "Median question value: $600.0\n"
     ]
    }
   ],
   "source": [
    "# David Harrison\n",
    "# STC-510 Data Wrangling\n",
    "# Module 5 Project\n",
    "\n",
    "\n",
    "import csv\n",
    "import json\n",
    "import statistics\n",
    "from sklearn.feature_extraction.text import CountVectorizer\n",
    "from sklearn.naive_bayes import MultinomialNB\n",
    "from sklearn.model_selection import train_test_split\n",
    "from sklearn.metrics import accuracy_score, precision_score, recall_score, f1_score\n",
    "\n",
    "\n",
    "\n",
    "\n",
    "# Open the file and load the contents:\n",
    "with open('jeopardy.json') as f:\n",
    "    data = json.load(f)\n",
    "\n",
    "# Print the number of questions in the dataset\n",
    "print(\"Number of questions:\", len(data))\n",
    "\n",
    "\n",
    "\n",
    "# Extract the values from each question and convert them to integers:\n",
    "values = []\n",
    "for question in data:\n",
    "    value_str = question['value']\n",
    "    if value_str is not None and value_str[0] == '$':\n",
    "        value_int = int(value_str[1:].replace(',', ''))\n",
    "        values.append(value_int)\n",
    "\n",
    "# Find the median question value to determmine high value vs low value questions:\n",
    "median = statistics.median(values)\n",
    "print(\"Median question value: $\", median, sep='')\n"
   ]
  },
  {
   "cell_type": "code",
   "execution_count": 47,
   "id": "ea8b1a3c-ff86-4eb5-80ad-7fe348c7fb08",
   "metadata": {},
   "outputs": [
    {
     "name": "stdout",
     "output_type": "stream",
     "text": [
      "Number of high-value questions: 113868\n",
      "Number of low-value questions: 99428\n"
     ]
    }
   ],
   "source": [
    "# Define high-value and low-value questions\n",
    "high_value = []\n",
    "low_value = []\n",
    "\n",
    "for question in data:\n",
    "    if question['value'] is not None:\n",
    "        value_str = question['value'].replace('$', '').replace(',', '')\n",
    "        try:\n",
    "            if int(value_str) >= 600:\n",
    "                high_value.append(question)\n",
    "            else:\n",
    "                low_value.append(question)\n",
    "        except ValueError:\n",
    "            pass\n",
    "\n",
    "# Print the number of high-value and low-value questions\n",
    "print(\"Number of high-value questions:\", len(high_value))\n",
    "print(\"Number of low-value questions:\", len(low_value))\n"
   ]
  },
  {
   "cell_type": "code",
   "execution_count": 40,
   "id": "289feae4-09bc-4090-bc3b-f64208c20601",
   "metadata": {},
   "outputs": [
    {
     "name": "stdout",
     "output_type": "stream",
     "text": [
      "Accuracy: 0.56\n",
      "Precision: 0.61\n",
      "Recall: 0.49\n",
      "F1 score: 0.54\n"
     ]
    }
   ],
   "source": [
    "# Extract features from the questions using the countvectorizer:\n",
    "vectorizer = CountVectorizer()\n",
    "X = [question['question'] for question in high_value + low_value]\n",
    "y = ['high-value'] * len(high_value) + ['low-value'] * len(low_value)\n",
    "X_train, X_test, y_train, y_test = train_test_split(X, y, test_size=0.2, random_state=42)\n",
    "X_train_vec = vectorizer.fit_transform(X_train)\n",
    "X_test_vec = vectorizer.transform(X_test)\n",
    "\n",
    "# Train the Naive Bayesian classifier:\n",
    "clf = MultinomialNB()\n",
    "clf.fit(X_train_vec, y_train)\n",
    "\n",
    "# Test the Naive Bayesian classifier:\n",
    "y_pred = clf.predict(X_test_vec)\n",
    "accuracy = accuracy_score(y_test, y_pred)\n",
    "precision = precision_score(y_test, y_pred, pos_label='high-value')\n",
    "recall = recall_score(y_test, y_pred, pos_label='high-value')\n",
    "f1 = f1_score(y_test, y_pred, pos_label='high-value')\n",
    "\n",
    "# Print the evaluation metrics\n",
    "print(\"Accuracy: {:.2f}\".format(accuracy))\n",
    "print(\"Precision: {:.2f}\".format(precision))\n",
    "print(\"Recall: {:.2f}\".format(recall))\n",
    "print(\"F1 score: {:.2f}\".format(f1))"
   ]
  },
  {
   "cell_type": "code",
   "execution_count": 41,
   "id": "aae2521e-9cc3-4042-a167-420dea185cd7",
   "metadata": {},
   "outputs": [],
   "source": [
    "# Write the results to a CSV file\n",
    "with open('jeopardy_classifier.csv', 'w', newline='') as csvfile:\n",
    "    writer = csv.writer(csvfile)\n",
    "    writer.writerow(['Accuracy', 'Precision', 'Recall', 'F1 score'])\n",
    "    writer.writerow([accuracy, precision, recall, f1])\n"
   ]
  },
  {
   "cell_type": "code",
   "execution_count": 42,
   "id": "c1a1c352-8cd6-41fa-81c0-add0327e9726",
   "metadata": {},
   "outputs": [
    {
     "name": "stdout",
     "output_type": "stream",
     "text": [
      "['Accuracy', 'Precision', 'Recall', 'F1 score']\n",
      "['0.5621894045944679', '0.6092508357538226', '0.49051358983409815', '0.5434724157317103']\n"
     ]
    }
   ],
   "source": [
    "with open('jeopardy_classifier.csv', 'r') as csvfile:\n",
    "    reader = csv.reader(csvfile)\n",
    "    for row in list(reader)[:10]:\n",
    "        print(row)"
   ]
  },
  {
   "cell_type": "code",
   "execution_count": null,
   "id": "b9631552-4e35-4f88-8023-dc23df361651",
   "metadata": {},
   "outputs": [],
   "source": []
  },
  {
   "cell_type": "code",
   "execution_count": null,
   "id": "88eb8f84-b089-4096-b55f-1ec8e04fae1a",
   "metadata": {},
   "outputs": [],
   "source": []
  }
 ],
 "metadata": {
  "kernelspec": {
   "display_name": "Python 3 (ipykernel)",
   "language": "python",
   "name": "python3"
  },
  "language_info": {
   "codemirror_mode": {
    "name": "ipython",
    "version": 3
   },
   "file_extension": ".py",
   "mimetype": "text/x-python",
   "name": "python",
   "nbconvert_exporter": "python",
   "pygments_lexer": "ipython3",
   "version": "3.9.13"
  }
 },
 "nbformat": 4,
 "nbformat_minor": 5
}
