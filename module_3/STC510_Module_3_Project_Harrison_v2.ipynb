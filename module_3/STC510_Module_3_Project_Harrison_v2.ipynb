{
 "cells": [
  {
   "cell_type": "code",
   "execution_count": 23,
   "metadata": {
    "colab": {
     "base_uri": "https://localhost:8080/",
     "height": 329
    },
    "executionInfo": {
     "elapsed": 1683,
     "status": "error",
     "timestamp": 1676944307268,
     "user": {
      "displayName": "David Harrison",
      "userId": "03080466246848089382"
     },
     "user_tz": 420
    },
    "id": "auIg5VySoeVi",
    "outputId": "83544c8d-8418-4dfe-8a52-3c5db6fb7593"
   },
   "outputs": [],
   "source": [
    "# Module 3 Project/Demo\n",
    "# David Harrison\n",
    "# STC 510\n",
    "\n",
    "import pandas as pd\n",
    "\n",
    "# Load the crime data (I kept getting an import error on both the Phoenix and Kaggle data, but I was able to \"skip\" them to allow the import):\n",
    "crime_data = pd.read_csv('crimestat.csv', dtype={'INC NUMBER': str}, on_bad_lines='skip')\n",
    "\n",
    "# Group crimes by premisis type and count of incident number:\n",
    "crimes_by_premise = crime_data.groupby('PREMISE TYPE')['INC NUMBER'].count()\n",
    "\n",
    "# Group crimes by zip code and count of incident number:\n",
    "crimes_by_zip = crime_data.groupby('ZIP')['INC NUMBER'].count()\n",
    "\n",
    "# Group crimes by year and number of incidents:\n",
    "crime_data['Year'] = pd.to_datetime(crime_data['OCCURRED ON']).dt.year\n",
    "crimes_by_year = crime_data.groupby('Year')['INC NUMBER'].count()\n",
    "\n",
    "# Calculate the change in the number of crimes from one year to the next (percent change):\n",
    "crimes_by_year_pct_change = crimes_by_year.pct_change() * 100"
   ]
  },
  {
   "cell_type": "code",
   "execution_count": 24,
   "metadata": {},
   "outputs": [],
   "source": [
    "# Outputs the summary to a .csv file:\n",
    "summary_data = pd.concat([crimes_by_premise, crimes_by_zip, crimes_by_year, crimes_by_year_pct_change], axis=1)\n",
    "summary_data.columns = ['Crimes by premise type', 'Crimes by zip code', 'Crimes by year', 'Percentage change in crimes by year']\n",
    "summary_data.to_csv('crime_stat_summary.csv')"
   ]
  },
  {
   "cell_type": "code",
   "execution_count": 25,
   "metadata": {},
   "outputs": [
    {
     "name": "stdout",
     "output_type": "stream",
     "text": [
      "Crimes by premise type:\n",
      "PREMISE TYPE\n",
      "ABANDONED/CONDEMNED STRUCTURE      176\n",
      "ADULT ONLY STORE / MOVIE           178\n",
      "AIRPORT                           2123\n",
      "ALLEY                             1124\n",
      "AMUSEMENT PARK                     109\n",
      "                                 ...  \n",
      "TRAIN STATION                       51\n",
      "TRIBAL LANDS                         4\n",
      "UNKNOWN                           2734\n",
      "VEHICLE                          23470\n",
      "WAREHOUSE / FACTORY               1804\n",
      "Name: INC NUMBER, Length: 98, dtype: int64\n",
      "\n",
      "Crimes by zip code:\n",
      "ZIP\n",
      "85003.0     6122\n",
      "85004.0     6335\n",
      "85006.0     9345\n",
      "85007.0     8587\n",
      "85008.0    22555\n",
      "           ...  \n",
      "85388.0        2\n",
      "85390.0        1\n",
      "85392.0       25\n",
      "85395.0        8\n",
      "85396.0       23\n",
      "Name: INC NUMBER, Length: 116, dtype: int64\n",
      "\n",
      "Crimes by year:\n",
      "Year\n",
      "2015.0    10130\n",
      "2016.0    63257\n",
      "2017.0    66076\n",
      "2018.0    64901\n",
      "2019.0    68788\n",
      "2020.0    64796\n",
      "2021.0    64347\n",
      "2022.0    62083\n",
      "2023.0     6453\n",
      "Name: INC NUMBER, dtype: int64\n",
      "\n",
      "Percentage change in crimes by year:\n",
      "Year\n",
      "2015.0           NaN\n",
      "2016.0    524.452122\n",
      "2017.0      4.456424\n",
      "2018.0     -1.778255\n",
      "2019.0      5.989122\n",
      "2020.0     -5.803338\n",
      "2021.0     -0.692944\n",
      "2022.0     -3.518424\n",
      "2023.0    -89.605850\n",
      "Name: INC NUMBER, dtype: float64\n"
     ]
    }
   ],
   "source": [
    "# Display the summary data (also written to the .csv)\n",
    "# I couldn't figure out how to remove the .0 from the ZIPs and years, unfortunately.\n",
    "print('Crimes by premise type:')\n",
    "print(crimes_by_premise)\n",
    "\n",
    "print('\\nCrimes by zip code:')\n",
    "print(crimes_by_zip)\n",
    "\n",
    "print('\\nCrimes by year:')\n",
    "print(crimes_by_year)\n",
    "\n",
    "print('\\nPercentage change in crimes by year:')\n",
    "print(crimes_by_year_pct_change)\n"
   ]
  }
 ],
 "metadata": {
  "colab": {
   "authorship_tag": "ABX9TyOEia/bQYs3bv41wGj/3f+O",
   "mount_file_id": "1BUVRceK88EFQgA6M9bKqt8EmmBOMFtwz",
   "provenance": []
  },
  "kernelspec": {
   "display_name": "base",
   "language": "python",
   "name": "python3"
  },
  "language_info": {
   "codemirror_mode": {
    "name": "ipython",
    "version": 3
   },
   "file_extension": ".py",
   "mimetype": "text/x-python",
   "name": "python",
   "nbconvert_exporter": "python",
   "pygments_lexer": "ipython3",
   "version": "3.9.13"
  },
  "vscode": {
   "interpreter": {
    "hash": "ca3d29f37a1a1c4f5e7a988c75b7db15a8dc84e630022593e41cd81ca2ea4c4a"
   }
  }
 },
 "nbformat": 4,
 "nbformat_minor": 4
}
